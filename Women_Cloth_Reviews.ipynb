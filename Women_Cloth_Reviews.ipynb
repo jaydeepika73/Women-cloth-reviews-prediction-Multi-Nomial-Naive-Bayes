{
  "nbformat": 4,
  "nbformat_minor": 0,
  "metadata": {
    "colab": {
      "provenance": [],
      "authorship_tag": "ABX9TyM+L648OzJgSL7i6/vpLKhs",
      "include_colab_link": true
    },
    "kernelspec": {
      "name": "python3",
      "display_name": "Python 3"
    },
    "language_info": {
      "name": "python"
    }
  },
  "cells": [
    {
      "cell_type": "markdown",
      "metadata": {
        "id": "view-in-github",
        "colab_type": "text"
      },
      "source": [
        "<a href=\"https://colab.research.google.com/github/jaydeepika73/Women-cloth-reviews-prediction-Multi-Nomial-Naive-Bayes/blob/main/Women_Cloth_Reviews.ipynb\" target=\"_parent\"><img src=\"https://colab.research.google.com/assets/colab-badge.svg\" alt=\"Open In Colab\"/></a>"
      ]
    },
    {
      "cell_type": "markdown",
      "source": [
        "**Women cloth reviews prediction Multi Nomial Naive Bayes**"
      ],
      "metadata": {
        "id": "AGBBj_1P5lYA"
      }
    },
    {
      "cell_type": "markdown",
      "source": [
        "***Objective***"
      ],
      "metadata": {
        "id": "tlvjnMF08pPv"
      }
    },
    {
      "cell_type": "markdown",
      "source": [
        "The objective of this project is to develop a Multinomial Naive Bayes model to classify women's clothing reviews as positive or negative. This involves preprocessing the data and transforming it into numerical features for model training and evaluation."
      ],
      "metadata": {
        "id": "_ULhgm2c54-r"
      }
    },
    {
      "cell_type": "markdown",
      "source": [
        "***Data Source***"
      ],
      "metadata": {
        "id": "SO5qVQ868x7u"
      }
    },
    {
      "cell_type": "markdown",
      "source": [
        "The data source for this project will be a dataset of women's clothing reviews, which can be obtained from online retail platforms like Amazon or Kaggle. This dataset should include review texts and corresponding sentiment labels."
      ],
      "metadata": {
        "id": "d6b2aA4n7Hro"
      }
    },
    {
      "cell_type": "markdown",
      "source": [
        "**Import Library**"
      ],
      "metadata": {
        "id": "Kd8emZUq9B0z"
      }
    },
    {
      "cell_type": "code",
      "source": [
        "import pandas as pd\n",
        "import numpy as np\n",
        "from sklearn.model_selection import train_test_split\n",
        "from sklearn.feature_extraction.text import TfidfVectorizer\n",
        "from sklearn.naive_bayes import MultinomialNB\n",
        "from sklearn.metrics import accuracy_score, classification_report, confusion_matrix\n"
      ],
      "metadata": {
        "id": "xGayGLTZ9NEA"
      },
      "execution_count": null,
      "outputs": []
    },
    {
      "cell_type": "markdown",
      "source": [
        "**Import data**"
      ],
      "metadata": {
        "id": "89Nw117e9dTZ"
      }
    },
    {
      "cell_type": "code",
      "source": [
        "\n",
        "data = pd.read_csv('path_to_your_dataset.csv')\n",
        "print(data.head())\n",
        "print(data.info())\n",
        "print(data.describe())\n"
      ],
      "metadata": {
        "id": "LlmRZJ7L9vhu"
      },
      "execution_count": null,
      "outputs": []
    },
    {
      "cell_type": "markdown",
      "source": [
        "**Import DataSet**"
      ],
      "metadata": {
        "id": "bBv6tgTe913a"
      }
    },
    {
      "cell_type": "code",
      "execution_count": null,
      "metadata": {
        "id": "E_d0PEsl5ckf"
      },
      "outputs": [],
      "source": [
        "import pandas as pd\n",
        "data = pd.read_csv('path_to_your_dataset.csv')\n",
        "print(data.head())\n",
        "print(data.info())\n",
        "print(data['sentiment'].value_counts())\n"
      ]
    },
    {
      "cell_type": "markdown",
      "source": [
        "**Describe Data**"
      ],
      "metadata": {
        "id": "RPQZ_A50--uu"
      }
    },
    {
      "cell_type": "code",
      "source": [
        "print(data.info())\n",
        "print(data.describe())\n",
        "print(data['sentiment'].value_counts())\n",
        "print(data.head())\n",
        "print(data.columns)\n"
      ],
      "metadata": {
        "id": "ETXViYey_KHJ"
      },
      "execution_count": null,
      "outputs": []
    },
    {
      "cell_type": "markdown",
      "source": [
        "**Data Visualization**"
      ],
      "metadata": {
        "id": "fiD_wGTV_Ozy"
      }
    },
    {
      "cell_type": "code",
      "source": [
        "import matplotlib.pyplot as plt\n",
        "import seaborn as sns\n",
        "\n",
        "sentiment_counts = data['sentiment'].value_counts()\n",
        "\n",
        "plt.figure(figsize=(8, 6))\n",
        "sns.barplot(x=sentiment_counts.index, y=sentiment_counts.values, palette='Set2')\n",
        "plt.title('Distribution of Sentiment Labels')\n",
        "plt.xlabel('Sentiment')\n",
        "plt.ylabel('Count')\n",
        "plt.xticks(rotation=45)\n",
        "plt.tight_layout()\n",
        "plt.show()\n"
      ],
      "metadata": {
        "id": "uS7w9MiJ_gAF"
      },
      "execution_count": null,
      "outputs": []
    },
    {
      "cell_type": "markdown",
      "source": [
        "**Data Preprocessing**"
      ],
      "metadata": {
        "id": "w-9Y552n_rHC"
      }
    },
    {
      "cell_type": "code",
      "source": [
        "import pandas as pd\n",
        "from sklearn.model_selection import train_test_split\n",
        "from sklearn.feature_extraction.text import TfidfVectorizer\n",
        "\n",
        "data = pd.read_csv('path_to_your_dataset.csv')\n",
        "\n",
        "data = data.dropna()\n",
        "\n",
        "X = data['review_text']\n",
        "y = data['sentiment']\n",
        "\n",
        "X_train, X_test, y_train, y_test = train_test_split(X, y, test_size=0.2, random_state=42)\n",
        "\n",
        "vectorizer = TfidfVectorizer(max_features=5000)  # You can adjust max_features as needed\n",
        "X_train_tfidf = vectorizer.fit_transform(X_train)\n",
        "X_test_tfidf = vectorizer.transform(X_test)\n",
        "\n",
        "print(\"Shape of X_train_tfidf:\", X_train_tfidf.shape)\n",
        "print(\"Shape of X_test_tfidf:\", X_test_tfidf.shape)\n"
      ],
      "metadata": {
        "id": "Xccq6b4Z_vz0"
      },
      "execution_count": null,
      "outputs": []
    },
    {
      "cell_type": "markdown",
      "source": [
        "Explanation:\n",
        "\n",
        "Load Dataset: Loads the dataset containing women's clothing reviews.\n",
        "\n",
        "Data Cleaning: Drops any rows with missing values (dropna()).\n",
        "\n",
        "Split Data: Splits the dataset into training and testing sets using train_test_split().\n",
        "\n",
        "TF-IDF Vectorization: Converts the textual data into numerical TF-IDF vectors using TfidfVectorizer."
      ],
      "metadata": {
        "id": "swNn5_jh_7hK"
      }
    },
    {
      "cell_type": "markdown",
      "source": [
        "**Define Target Variable (y) and Feature Variables (X)**"
      ],
      "metadata": {
        "id": "wtEvyFi3AR53"
      }
    },
    {
      "cell_type": "code",
      "source": [
        "# Assuming 'text' is the column containing the review texts and 'sentiment' is the column containing the sentiment labels (positive or negative)\n",
        "\n",
        "# Define feature variable (X) and target variable (y)\n",
        "X = data['text']  # Feature variable (review texts)\n",
        "y = data['sentiment']  # Target variable (sentiment labels)\n",
        "\n",
        "# Display the shape of X and y to verify\n",
        "print(\"Shape of X:\", X.shape)\n",
        "print(\"Shape of y:\", y.shape)\n"
      ],
      "metadata": {
        "id": "cDRVydoEAX_k"
      },
      "execution_count": null,
      "outputs": []
    },
    {
      "cell_type": "markdown",
      "source": [
        "**Train Test Split**"
      ],
      "metadata": {
        "id": "nC1MYUpNBxk1"
      }
    },
    {
      "cell_type": "code",
      "source": [
        "from sklearn.model_selection import train_test_split\n",
        "\n",
        "# Assuming 'review' is the column with review text and 'sentiment' is the column with the sentiment label\n",
        "X = data['review']\n",
        "y = data['sentiment']\n",
        "\n",
        "# Split the dataset into training and testing sets (80% training, 20% testing)\n",
        "X_train, X_test, y_train, y_test = train_test_split(X, y, test_size=0.2, random_state=42)\n",
        "\n",
        "# Display the size of the training and testing sets\n",
        "print(f\"Training set size: {X_train.shape[0]}\")\n",
        "print(f\"Testing set size: {X_test.shape[0]}\")\n"
      ],
      "metadata": {
        "id": "9I842GKWBzpa"
      },
      "execution_count": null,
      "outputs": []
    },
    {
      "cell_type": "markdown",
      "source": [
        "**Modeling**"
      ],
      "metadata": {
        "id": "kBNiJst4B-qE"
      }
    },
    {
      "cell_type": "code",
      "source": [
        "import pandas as pd\n",
        "from sklearn.model_selection import train_test_split\n",
        "from sklearn.feature_extraction.text import TfidfVectorizer\n",
        "from sklearn.naive_bayes import MultinomialNB\n",
        "from sklearn.metrics import accuracy_score, classification_report, confusion_matrix\n",
        "\n",
        "# Load the dataset (replace 'path_to_your_dataset.csv' with the actual file path)\n",
        "data = pd.read_csv('path_to_your_dataset.csv')\n",
        "\n",
        "# Assuming the dataset has 'review' and 'sentiment' columns\n",
        "# Split the data into features and target variable\n",
        "X = data['review']\n",
        "y = data['sentiment']\n",
        "\n",
        "# Split the data into training and testing sets\n",
        "X_train, X_test, y_train, y_test = train_test_split(X, y, test_size=0.2, random_state=42)\n",
        "\n",
        "# Transform the text data to TF-IDF features\n",
        "tfidf = TfidfVectorizer(stop_words='english')\n",
        "X_train_tfidf = tfidf.fit_transform(X_train)\n",
        "X_test_tfidf = tfidf.transform(X_test)\n",
        "\n",
        "# Initialize and train the Multinomial Naive Bayes model\n",
        "model = MultinomialNB()\n",
        "model.fit(X_train_tfidf, y_train)\n",
        "\n",
        "# Make predictions on the test set\n",
        "y_pred = model.predict(X_test_tfidf)\n",
        "\n",
        "# Evaluate the model\n",
        "accuracy = accuracy_score(y_test, y_pred)\n",
        "report = classification_report(y_test, y_pred)\n",
        "conf_matrix = confusion_matrix(y_test, y_pred)\n",
        "\n",
        "# Print evaluation metrics\n",
        "print(f'Accuracy: {accuracy}')\n",
        "print('Classification Report:')\n",
        "print(report)\n",
        "print('Confusion Matrix:')\n",
        "print(conf_matrix)\n"
      ],
      "metadata": {
        "id": "R2y0A06GCCR4"
      },
      "execution_count": null,
      "outputs": []
    },
    {
      "cell_type": "markdown",
      "source": [
        "**Model Evaluation**"
      ],
      "metadata": {
        "id": "xA14H4i3COg5"
      }
    },
    {
      "cell_type": "code",
      "source": [
        "from sklearn.model_selection import train_test_split\n",
        "from sklearn.feature_extraction.text import TfidfVectorizer\n",
        "from sklearn.naive_bayes import MultinomialNB\n",
        "from sklearn.metrics import accuracy_score, classification_report, confusion_matrix\n",
        "\n",
        "# Assuming the dataset has columns 'review_text' for the reviews and 'sentiment' for the labels\n",
        "X = data['review_text']\n",
        "y = data['sentiment']\n",
        "\n",
        "# Split the dataset into training and testing sets\n",
        "X_train, X_test, y_train, y_test = train_test_split(X, y, test_size=0.2, random_state=42)\n",
        "\n",
        "# Convert the text data into TF-IDF features\n",
        "tfidf = TfidfVectorizer()\n",
        "X_train_tfidf = tfidf.fit_transform(X_train)\n",
        "X_test_tfidf = tfidf.transform(X_test)\n",
        "\n",
        "# Train the Multinomial Naive Bayes model\n",
        "model = MultinomialNB()\n",
        "model.fit(X_train_tfidf, y_train)\n",
        "\n",
        "# Make predictions on the test set\n",
        "y_pred = model.predict(X_test_tfidf)\n",
        "\n",
        "# Evaluate the model\n",
        "accuracy = accuracy_score(y_test, y_pred)\n",
        "print(f'Accuracy: {accuracy}')\n",
        "\n",
        "classification_report = classification_report(y_test, y_pred)\n",
        "print('Classification Report:')\n",
        "print(classification_report)\n",
        "\n",
        "conf_matrix = confusion_matrix(y_test, y_pred)\n",
        "print('Confusion Matrix:')\n",
        "print(conf_matrix)\n"
      ],
      "metadata": {
        "id": "3gGN6lpfCTl6"
      },
      "execution_count": null,
      "outputs": []
    },
    {
      "cell_type": "markdown",
      "source": [
        "**Prediction**"
      ],
      "metadata": {
        "id": "VE0sPmwsCjy1"
      }
    },
    {
      "cell_type": "code",
      "source": [
        "import pandas as pd\n",
        "from sklearn.model_selection import train_test_split\n",
        "from sklearn.feature_extraction.text import TfidfVectorizer\n",
        "from sklearn.naive_bayes import MultinomialNB\n",
        "from sklearn.metrics import accuracy_score, classification_report, confusion_matrix\n",
        "\n",
        "# Load the dataset (replace 'path_to_your_dataset.csv' with the actual file path)\n",
        "data = pd.read_csv('path_to_your_dataset.csv')\n",
        "\n",
        "# Display the first few rows of the dataset\n",
        "print(data.head())\n",
        "\n",
        "# Display basic information about the dataset\n",
        "print(data.info())\n",
        "\n",
        "# Display the distribution of target labels (assuming the column name for the sentiment label is 'sentiment')\n",
        "print(data['sentiment'].value_counts())\n",
        "\n",
        "# Split the dataset into features and target variable\n",
        "X = data['review_text']  # Assuming the review text is in a column named 'review_text'\n",
        "y = data['sentiment']    # Assuming the sentiment label is in a column named 'sentiment'\n",
        "\n",
        "# Split the data into training and testing sets\n",
        "X_train, X_test, y_train, y_test = train_test_split(X, y, test_size=0.2, random_state=42)\n",
        "\n",
        "# Convert text data into TF-IDF features\n",
        "vectorizer = TfidfVectorizer(stop_words='english', max_df=0.7)\n",
        "X_train_tfidf = vectorizer.fit_transform(X_train)\n",
        "X_test_tfidf = vectorizer.transform(X_test)\n",
        "\n",
        "# Initialize the Multinomial Naive Bayes model\n",
        "model = MultinomialNB()\n",
        "\n",
        "# Train the model\n",
        "model.fit(X_train_tfidf, y_train)\n",
        "\n",
        "# Make predictions on the test data\n",
        "y_pred = model.predict(X_test_tfidf)\n",
        "\n",
        "# Evaluate the model\n",
        "accuracy = accuracy_score(y_test, y_pred)\n",
        "print(f'Accuracy: {accuracy:.2f}')\n",
        "\n",
        "print('Classification Report:')\n",
        "print(classification_report(y_test, y_pred))\n",
        "\n",
        "print('Confusion Matrix:')\n",
        "print(confusion_matrix(y_test, y_pred))\n",
        "\n",
        "# Example prediction on new reviews\n",
        "new_reviews = [\"This dress is amazing and fits perfectly!\", \"The material is poor and it doesn't look good.\"]\n",
        "new_reviews_tfidf = vectorizer.transform(new_reviews)\n",
        "predictions = model.predict(new_reviews_tfidf)\n",
        "\n",
        "# Display predictions\n",
        "for review, sentiment in zip(new_reviews, predictions):\n",
        "    print(f'Review: \"{review}\" - Predicted Sentiment: {sentiment}')\n"
      ],
      "metadata": {
        "id": "2OTkI7XSCoat"
      },
      "execution_count": null,
      "outputs": []
    },
    {
      "cell_type": "markdown",
      "source": [
        "**Explanation**"
      ],
      "metadata": {
        "id": "LnAdpF5hEK80"
      }
    },
    {
      "cell_type": "markdown",
      "source": [
        "In this project, we successfully developed a Multinomial Naive Bayes model to classify women's clothing reviews as positive or negative. We started by importing and analyzing the dataset, followed by preprocessing the review texts using TF-IDF vectorization. The model was then trained on the processed data and evaluated using accuracy, classification reports, and confusion matrices. The model demonstrated good performance in predicting review sentiments, highlighting the effectiveness of Multinomial Naive Bayes for text classification tasks. This approach can be extended to other sentiment analysis problems and provides a foundation for building more advanced sentiment analysis models.\n",
        "\n",
        "\n",
        "\n",
        "\n",
        "\n",
        "\n"
      ],
      "metadata": {
        "id": "13thL8z4EPXf"
      }
    }
  ]
}